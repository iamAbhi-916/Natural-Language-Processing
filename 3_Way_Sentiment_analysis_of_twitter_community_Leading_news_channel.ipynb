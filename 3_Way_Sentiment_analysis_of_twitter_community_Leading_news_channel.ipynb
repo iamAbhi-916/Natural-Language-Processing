{
 "cells": [
  {
   "cell_type": "markdown",
   "metadata": {},
   "source": [
    "# scrape data from twitter using twitter api"
   ]
  },
  {
   "cell_type": "code",
   "execution_count": 91,
   "metadata": {},
   "outputs": [],
   "source": [
    "import json\n",
    "import csv\n",
    "import tweepy\n",
    "import re\n"
   ]
  },
  {
   "cell_type": "code",
   "execution_count": 92,
   "metadata": {},
   "outputs": [],
   "source": [
    "\"\"\"\n",
    "INPUTS:\n",
    "    consumer_key, consumer_secret, access_token, access_token_secret: codes \n",
    "    telling twitter that we are authorized to access this data\n",
    "    hashtag_phrase: the combination of hashtags to search for\n",
    "OUTPUTS:\n",
    "    none, simply save the tweet info to a spreadsheet\n",
    "\"\"\"\n",
    "def search_for_hashtags(consumer_key, consumer_secret, access_token, access_token_secret, hashtag_phrase):\n",
    "    \n",
    "    #create authentication for accessing Twitter\n",
    "    auth = tweepy.OAuthHandler(consumer_key, consumer_secret)\n",
    "    auth.set_access_token(access_token, access_token_secret)\n",
    "\n",
    "    #initialize Tweepy API\n",
    "    api = tweepy.API(auth)\n",
    "    \n",
    "    #get the name of the spreadsheet we will write to\n",
    "    fname = '_'.join(re.findall(r\"#(\\w+)\", hashtag_phrase))\n",
    "\n",
    "    #open the spreadsheet we will write to\n",
    "    with open('%s.csv' % (fname), 'w') as file:\n",
    "\n",
    "        w = csv.writer(file)\n",
    "\n",
    "        #write header row to spreadsheet\n",
    "        w.writerow(['timestamp', 'tweet_text', 'username',  'followers_count'])\n",
    "\n",
    "        #for each tweet matching our hashtags, write relevant info to the spreadsheet\n",
    "        for tweet in tweepy.Cursor(api.search, q=hashtag_phrase+' -filter:retweets', \\\n",
    "                                   lang=\"en\", tweet_mode='extended').items(100):\n",
    "            w.writerow([tweet.created_at, tweet.full_text.replace('\\n',' ').encode('utf-8'), tweet.user.screen_name.encode('utf-8'), tweet.user.followers_count])"
   ]
  },
  {
   "cell_type": "code",
   "execution_count": 16,
   "metadata": {},
   "outputs": [
    {
     "name": "stdout",
     "output_type": "stream",
     "text": [
      "Consumer Key dclGMUCZTpRBUaaN49llBtdk0\n",
      "Consumer Secret AtGMspDbmAGJ0gOWPnSeXfhVBudZod8T0As9529y4jy2dGREfH\n",
      "Access Token 1319918565273849856-qZ7H2hyAiQJcZMNI9BKMy7DLZcxiK3\n",
      "Access Token Secret 8HxRIzaYef9ubUbGJXj0DfpCxcV5twEo4R2vB1xVfsBol\n",
      "Hashtag Phrase #republic\n"
     ]
    }
   ],
   "source": [
    "consumer_key = input('Consumer Key ')\n",
    "consumer_secret = input('Consumer Secret ')\n",
    "access_token = input('Access Token ')\n",
    "access_token_secret = input('Access Token Secret ')\n",
    "    \n",
    "hashtag_phrase = input('Hashtag Phrase ')\n",
    "\n",
    "if __name__ == '__main__':\n",
    "    search_for_hashtags(consumer_key, consumer_secret, access_token, access_token_secret, hashtag_phrase)"
   ]
  },
  {
   "cell_type": "markdown",
   "metadata": {},
   "source": [
    "# sentiment analysis for republic tv"
   ]
  },
  {
   "cell_type": "code",
   "execution_count": 78,
   "metadata": {},
   "outputs": [],
   "source": [
    "from vaderSentiment.vaderSentiment import SentimentIntensityAnalyzer\n",
    "from langdetect import detect \n",
    "import matplotlib.pyplot as plt\n",
    "import seaborn as sns\n",
    "import matplotlib.mlab as mlab\n",
    "import pandas as pd "
   ]
  },
  {
   "cell_type": "code",
   "execution_count": 79,
   "metadata": {},
   "outputs": [],
   "source": [
    "\n",
    "analyzer = SentimentIntensityAnalyzer()\n"
   ]
  },
  {
   "cell_type": "code",
   "execution_count": 80,
   "metadata": {},
   "outputs": [],
   "source": [
    "df_republic = pd.read_csv(\"C:/Users/user/republic.csv\")"
   ]
  },
  {
   "cell_type": "code",
   "execution_count": 81,
   "metadata": {},
   "outputs": [
    {
     "data": {
      "text/html": [
       "<div>\n",
       "<style scoped>\n",
       "    .dataframe tbody tr th:only-of-type {\n",
       "        vertical-align: middle;\n",
       "    }\n",
       "\n",
       "    .dataframe tbody tr th {\n",
       "        vertical-align: top;\n",
       "    }\n",
       "\n",
       "    .dataframe thead th {\n",
       "        text-align: right;\n",
       "    }\n",
       "</style>\n",
       "<table border=\"1\" class=\"dataframe\">\n",
       "  <thead>\n",
       "    <tr style=\"text-align: right;\">\n",
       "      <th></th>\n",
       "      <th>timestamp</th>\n",
       "      <th>tweet_text</th>\n",
       "      <th>username</th>\n",
       "      <th>followers_count</th>\n",
       "    </tr>\n",
       "  </thead>\n",
       "  <tbody>\n",
       "    <tr>\n",
       "      <th>0</th>\n",
       "      <td>2020-10-24 12:36:12</td>\n",
       "      <td>b'#Republic Literacy? Constitution and Parliam...</td>\n",
       "      <td>b'MangalSainHanda'</td>\n",
       "      <td>132</td>\n",
       "    </tr>\n",
       "    <tr>\n",
       "      <th>1</th>\n",
       "      <td>2020-10-24 12:28:35</td>\n",
       "      <td>b'A constitutional #republic is a type of gove...</td>\n",
       "      <td>b'StephenJett2'</td>\n",
       "      <td>2</td>\n",
       "    </tr>\n",
       "    <tr>\n",
       "      <th>2</th>\n",
       "      <td>2020-10-24 12:28:18</td>\n",
       "      <td>b'@eoinyk Import duty taxes will also apply to...</td>\n",
       "      <td>b'Francophile_IRL'</td>\n",
       "      <td>57</td>\n",
       "    </tr>\n",
       "    <tr>\n",
       "      <th>3</th>\n",
       "      <td>2020-10-24 12:13:42</td>\n",
       "      <td>b'Can you imagine how many more #USA citizens ...</td>\n",
       "      <td>b'MediaActive'</td>\n",
       "      <td>2905</td>\n",
       "    </tr>\n",
       "    <tr>\n",
       "      <th>4</th>\n",
       "      <td>2020-10-24 12:13:10</td>\n",
       "      <td>b'This is a #powerful documentary #how #Commun...</td>\n",
       "      <td>b'kukiszabolcs'</td>\n",
       "      <td>407</td>\n",
       "    </tr>\n",
       "  </tbody>\n",
       "</table>\n",
       "</div>"
      ],
      "text/plain": [
       "             timestamp                                         tweet_text  \\\n",
       "0  2020-10-24 12:36:12  b'#Republic Literacy? Constitution and Parliam...   \n",
       "1  2020-10-24 12:28:35  b'A constitutional #republic is a type of gove...   \n",
       "2  2020-10-24 12:28:18  b'@eoinyk Import duty taxes will also apply to...   \n",
       "3  2020-10-24 12:13:42  b'Can you imagine how many more #USA citizens ...   \n",
       "4  2020-10-24 12:13:10  b'This is a #powerful documentary #how #Commun...   \n",
       "\n",
       "             username  followers_count  \n",
       "0  b'MangalSainHanda'              132  \n",
       "1     b'StephenJett2'                2  \n",
       "2  b'Francophile_IRL'               57  \n",
       "3      b'MediaActive'             2905  \n",
       "4     b'kukiszabolcs'              407  "
      ]
     },
     "execution_count": 81,
     "metadata": {},
     "output_type": "execute_result"
    }
   ],
   "source": [
    "df_republic.head()"
   ]
  },
  {
   "cell_type": "code",
   "execution_count": 82,
   "metadata": {},
   "outputs": [],
   "source": [
    "df_republic['tweet_text']= df_republic['tweet_text'].str.lower()\n",
    "df_republic['username']= df_republic['username'].str.lower()\n"
   ]
  },
  {
   "cell_type": "code",
   "execution_count": 83,
   "metadata": {},
   "outputs": [
    {
     "name": "stdout",
     "output_type": "stream",
     "text": [
      "<class 'pandas.core.frame.DataFrame'>\n",
      "RangeIndex: 100 entries, 0 to 99\n",
      "Data columns (total 3 columns):\n",
      " #   Column           Non-Null Count  Dtype \n",
      "---  ------           --------------  ----- \n",
      " 0   timestamp        100 non-null    object\n",
      " 1   tweet_text       100 non-null    object\n",
      " 2   followers_count  100 non-null    int64 \n",
      "dtypes: int64(1), object(2)\n",
      "memory usage: 2.5+ KB\n"
     ]
    }
   ],
   "source": [
    "#remove punctuations \n",
    "df_republic['tweet_text'] = df_republic['tweet_text'].str.replace('[^\\w\\s]','')\n",
    "df_republic=df_republic.drop('username',axis=1)\n",
    "\n",
    "df_republic.info()"
   ]
  },
  {
   "cell_type": "code",
   "execution_count": 85,
   "metadata": {},
   "outputs": [
    {
     "data": {
      "text/html": [
       "<div>\n",
       "<style scoped>\n",
       "    .dataframe tbody tr th:only-of-type {\n",
       "        vertical-align: middle;\n",
       "    }\n",
       "\n",
       "    .dataframe tbody tr th {\n",
       "        vertical-align: top;\n",
       "    }\n",
       "\n",
       "    .dataframe thead th {\n",
       "        text-align: right;\n",
       "    }\n",
       "</style>\n",
       "<table border=\"1\" class=\"dataframe\">\n",
       "  <thead>\n",
       "    <tr style=\"text-align: right;\">\n",
       "      <th></th>\n",
       "      <th>timestamp</th>\n",
       "      <th>tweet_text</th>\n",
       "      <th>followers_count</th>\n",
       "      <th>neg</th>\n",
       "      <th>neu</th>\n",
       "      <th>pos</th>\n",
       "      <th>compound</th>\n",
       "    </tr>\n",
       "  </thead>\n",
       "  <tbody>\n",
       "    <tr>\n",
       "      <th>0</th>\n",
       "      <td>2020-10-24 12:36:12</td>\n",
       "      <td>brepublic literacy constitution and parliament...</td>\n",
       "      <td>132</td>\n",
       "      <td>0.209</td>\n",
       "      <td>0.736</td>\n",
       "      <td>0.055</td>\n",
       "      <td>-0.7579</td>\n",
       "    </tr>\n",
       "    <tr>\n",
       "      <th>1</th>\n",
       "      <td>2020-10-24 12:28:35</td>\n",
       "      <td>ba constitutional republic is a type of govern...</td>\n",
       "      <td>2</td>\n",
       "      <td>0.000</td>\n",
       "      <td>1.000</td>\n",
       "      <td>0.000</td>\n",
       "      <td>0.0000</td>\n",
       "    </tr>\n",
       "    <tr>\n",
       "      <th>2</th>\n",
       "      <td>2020-10-24 12:28:18</td>\n",
       "      <td>beoinyk import duty taxes will also apply to g...</td>\n",
       "      <td>57</td>\n",
       "      <td>0.025</td>\n",
       "      <td>0.932</td>\n",
       "      <td>0.044</td>\n",
       "      <td>0.2500</td>\n",
       "    </tr>\n",
       "    <tr>\n",
       "      <th>3</th>\n",
       "      <td>2020-10-24 12:13:42</td>\n",
       "      <td>bcan you imagine how many more usa citizens wi...</td>\n",
       "      <td>2905</td>\n",
       "      <td>0.171</td>\n",
       "      <td>0.769</td>\n",
       "      <td>0.060</td>\n",
       "      <td>-0.7096</td>\n",
       "    </tr>\n",
       "    <tr>\n",
       "      <th>4</th>\n",
       "      <td>2020-10-24 12:13:10</td>\n",
       "      <td>bthis is a powerful documentary how communist ...</td>\n",
       "      <td>407</td>\n",
       "      <td>0.000</td>\n",
       "      <td>0.792</td>\n",
       "      <td>0.208</td>\n",
       "      <td>0.6705</td>\n",
       "    </tr>\n",
       "  </tbody>\n",
       "</table>\n",
       "</div>"
      ],
      "text/plain": [
       "             timestamp                                         tweet_text  \\\n",
       "0  2020-10-24 12:36:12  brepublic literacy constitution and parliament...   \n",
       "1  2020-10-24 12:28:35  ba constitutional republic is a type of govern...   \n",
       "2  2020-10-24 12:28:18  beoinyk import duty taxes will also apply to g...   \n",
       "3  2020-10-24 12:13:42  bcan you imagine how many more usa citizens wi...   \n",
       "4  2020-10-24 12:13:10  bthis is a powerful documentary how communist ...   \n",
       "\n",
       "   followers_count    neg    neu    pos  compound  \n",
       "0              132  0.209  0.736  0.055   -0.7579  \n",
       "1                2  0.000  1.000  0.000    0.0000  \n",
       "2               57  0.025  0.932  0.044    0.2500  \n",
       "3             2905  0.171  0.769  0.060   -0.7096  \n",
       "4              407  0.000  0.792  0.208    0.6705  "
      ]
     },
     "execution_count": 85,
     "metadata": {},
     "output_type": "execute_result"
    }
   ],
   "source": [
    "#vader sentiment analysis\n",
    "\n",
    "\n",
    "sentiment_republic = df_republic['tweet_text'].apply(lambda x: analyzer.polarity_scores(x))\n",
    "df_rep_final= pd.concat([df_republic, sentiment_republic.apply(pd.Series)],1)\n",
    "df_rep_final.head()"
   ]
  },
  {
   "cell_type": "code",
   "execution_count": 88,
   "metadata": {},
   "outputs": [
    {
     "name": "stdout",
     "output_type": "stream",
     "text": [
      "0.09145700000000001\n"
     ]
    },
    {
     "data": {
      "text/plain": [
       "0.11515"
      ]
     },
     "execution_count": 88,
     "metadata": {},
     "output_type": "execute_result"
    },
    {
     "data": {
      "image/png": "[encoded data removed]",
      "text/plain": [
       "<Figure size 432x288 with 1 Axes>"
      ]
     },
     "metadata": {
      "needs_background": "light"
     },
     "output_type": "display_data"
    }
   ],
   "source": [
    "#visualization of sentiments using compound score\n",
    "df_rep_final['compound'].hist()\n",
    "print(df_rep_final['compound'].mean())\n",
    "df_rep_final['compound'].median()"
   ]
  },
  {
   "cell_type": "code",
   "execution_count": 89,
   "metadata": {},
   "outputs": [
    {
     "data": {
      "text/plain": [
       "<matplotlib.axes._subplots.AxesSubplot at 0x1fb1cc34288>"
      ]
     },
     "execution_count": 89,
     "metadata": {},
     "output_type": "execute_result"
    },
    {
     "data": {
      "image/png": "[encoded data removed]",
      "text/plain": [
       "<Figure size 432x288 with 1 Axes>"
      ]
     },
     "metadata": {
      "needs_background": "light"
     },
     "output_type": "display_data"
    }
   ],
   "source": [
    "sns.distplot(df_rep_final['compound'], bins=15, hist = False, label = 'Republic TV', color ='blue',  kde_kws={'linestyle':'--'})"
   ]
  },
  {
   "cell_type": "markdown",
   "metadata": {},
   "source": [
    "# for Aaj tak\n"
   ]
  },
  {
   "cell_type": "code",
   "execution_count": 94,
   "metadata": {},
   "outputs": [
    {
     "name": "stdout",
     "output_type": "stream",
     "text": [
      "Consumer Key dclGMUCZTpRBUaaN49llBtdk0\n",
      "Consumer Secret AtGMspDbmAGJ0gOWPnSeXfhVBudZod8T0As9529y4jy2dGREfH\n",
      "Access Token 1319918565273849856-qZ7H2hyAiQJcZMNI9BKMy7DLZcxiK3\n",
      "Access Token Secret 8HxRIzaYef9ubUbGJXj0DfpCxcV5twEo4R2vB1xVfsBol\n",
      "Hashtag Phrase #aajtak\n"
     ]
    }
   ],
   "source": [
    "consumer_key = input('Consumer Key ')\n",
    "consumer_secret = input('Consumer Secret ')\n",
    "access_token = input('Access Token ')\n",
    "access_token_secret = input('Access Token Secret ')\n",
    "    \n",
    "hashtag_phrase = input('Hashtag Phrase ')\n",
    "\n",
    "if __name__ == '__main__':\n",
    "    search_for_hashtags(consumer_key, consumer_secret, access_token, access_token_secret, hashtag_phrase)"
   ]
  },
  {
   "cell_type": "markdown",
   "metadata": {},
   "source": [
    "# sentiment analysis for aajtak\n"
   ]
  },
  {
   "cell_type": "code",
   "execution_count": 95,
   "metadata": {},
   "outputs": [],
   "source": [
    "from vaderSentiment.vaderSentiment import SentimentIntensityAnalyzer\n",
    "from langdetect import detect \n",
    "import matplotlib.pyplot as plt\n",
    "import seaborn as sns\n",
    "import matplotlib.mlab as mlab\n",
    "import pandas as pd "
   ]
  },
  {
   "cell_type": "code",
   "execution_count": 96,
   "metadata": {},
   "outputs": [],
   "source": [
    "analyzer = SentimentIntensityAnalyzer()\n"
   ]
  },
  {
   "cell_type": "code",
   "execution_count": 97,
   "metadata": {},
   "outputs": [],
   "source": [
    "df_aajtak = pd.read_csv(\"C:/Users/user/aajtak.csv\")"
   ]
  },
  {
   "cell_type": "code",
   "execution_count": 98,
   "metadata": {},
   "outputs": [
    {
     "name": "stdout",
     "output_type": "stream",
     "text": [
      "<class 'pandas.core.frame.DataFrame'>\n",
      "RangeIndex: 100 entries, 0 to 99\n",
      "Data columns (total 4 columns):\n",
      " #   Column           Non-Null Count  Dtype \n",
      "---  ------           --------------  ----- \n",
      " 0   timestamp        100 non-null    object\n",
      " 1   tweet_text       100 non-null    object\n",
      " 2   username         100 non-null    object\n",
      " 3   followers_count  100 non-null    int64 \n",
      "dtypes: int64(1), object(3)\n",
      "memory usage: 3.2+ KB\n"
     ]
    }
   ],
   "source": [
    "df_aajtak['tweet_text']= df_aajtak['tweet_text'].str.lower()\n",
    "df_aajtak['username']= df_aajtak['username'].str.lower()\n",
    "df_aajtak.info()\n"
   ]
  },
  {
   "cell_type": "code",
   "execution_count": 100,
   "metadata": {},
   "outputs": [],
   "source": [
    "#remove punctuations \n",
    "df_aajtak['tweet_text'] = df_republic['tweet_text'].str.replace('[^\\w\\s]','')\n",
    "df_aajtak=df_aajtak.drop('username',axis=1)"
   ]
  },
  {
   "cell_type": "code",
   "execution_count": 101,
   "metadata": {},
   "outputs": [
    {
     "data": {
      "text/html": [
       "<div>\n",
       "<style scoped>\n",
       "    .dataframe tbody tr th:only-of-type {\n",
       "        vertical-align: middle;\n",
       "    }\n",
       "\n",
       "    .dataframe tbody tr th {\n",
       "        vertical-align: top;\n",
       "    }\n",
       "\n",
       "    .dataframe thead th {\n",
       "        text-align: right;\n",
       "    }\n",
       "</style>\n",
       "<table border=\"1\" class=\"dataframe\">\n",
       "  <thead>\n",
       "    <tr style=\"text-align: right;\">\n",
       "      <th></th>\n",
       "      <th>timestamp</th>\n",
       "      <th>tweet_text</th>\n",
       "      <th>followers_count</th>\n",
       "      <th>neg</th>\n",
       "      <th>neu</th>\n",
       "      <th>pos</th>\n",
       "      <th>compound</th>\n",
       "    </tr>\n",
       "  </thead>\n",
       "  <tbody>\n",
       "    <tr>\n",
       "      <th>0</th>\n",
       "      <td>2020-10-25 11:56:19</td>\n",
       "      <td>brepublic literacy constitution and parliament...</td>\n",
       "      <td>205</td>\n",
       "      <td>0.209</td>\n",
       "      <td>0.736</td>\n",
       "      <td>0.055</td>\n",
       "      <td>-0.7579</td>\n",
       "    </tr>\n",
       "    <tr>\n",
       "      <th>1</th>\n",
       "      <td>2020-10-25 11:47:05</td>\n",
       "      <td>ba constitutional republic is a type of govern...</td>\n",
       "      <td>4</td>\n",
       "      <td>0.000</td>\n",
       "      <td>1.000</td>\n",
       "      <td>0.000</td>\n",
       "      <td>0.0000</td>\n",
       "    </tr>\n",
       "    <tr>\n",
       "      <th>2</th>\n",
       "      <td>2020-10-25 11:40:51</td>\n",
       "      <td>beoinyk import duty taxes will also apply to g...</td>\n",
       "      <td>13</td>\n",
       "      <td>0.025</td>\n",
       "      <td>0.932</td>\n",
       "      <td>0.044</td>\n",
       "      <td>0.2500</td>\n",
       "    </tr>\n",
       "    <tr>\n",
       "      <th>3</th>\n",
       "      <td>2020-10-25 11:09:16</td>\n",
       "      <td>bcan you imagine how many more usa citizens wi...</td>\n",
       "      <td>1</td>\n",
       "      <td>0.171</td>\n",
       "      <td>0.769</td>\n",
       "      <td>0.060</td>\n",
       "      <td>-0.7096</td>\n",
       "    </tr>\n",
       "    <tr>\n",
       "      <th>4</th>\n",
       "      <td>2020-10-25 11:08:50</td>\n",
       "      <td>bthis is a powerful documentary how communist ...</td>\n",
       "      <td>1</td>\n",
       "      <td>0.000</td>\n",
       "      <td>0.792</td>\n",
       "      <td>0.208</td>\n",
       "      <td>0.6705</td>\n",
       "    </tr>\n",
       "  </tbody>\n",
       "</table>\n",
       "</div>"
      ],
      "text/plain": [
       "             timestamp                                         tweet_text  \\\n",
       "0  2020-10-25 11:56:19  brepublic literacy constitution and parliament...   \n",
       "1  2020-10-25 11:47:05  ba constitutional republic is a type of govern...   \n",
       "2  2020-10-25 11:40:51  beoinyk import duty taxes will also apply to g...   \n",
       "3  2020-10-25 11:09:16  bcan you imagine how many more usa citizens wi...   \n",
       "4  2020-10-25 11:08:50  bthis is a powerful documentary how communist ...   \n",
       "\n",
       "   followers_count    neg    neu    pos  compound  \n",
       "0              205  0.209  0.736  0.055   -0.7579  \n",
       "1                4  0.000  1.000  0.000    0.0000  \n",
       "2               13  0.025  0.932  0.044    0.2500  \n",
       "3                1  0.171  0.769  0.060   -0.7096  \n",
       "4                1  0.000  0.792  0.208    0.6705  "
      ]
     },
     "execution_count": 101,
     "metadata": {},
     "output_type": "execute_result"
    }
   ],
   "source": [
    "#vader sentiment analysis\n",
    "\n",
    "\n",
    "sentiment_aajtak = df_aajtak['tweet_text'].apply(lambda x: analyzer.polarity_scores(x))\n",
    "df_aaj_final= pd.concat([df_aajtak, sentiment_aajtak.apply(pd.Series)],1)\n",
    "df_aaj_final.head()"
   ]
  },
  {
   "cell_type": "code",
   "execution_count": 102,
   "metadata": {},
   "outputs": [
    {
     "name": "stdout",
     "output_type": "stream",
     "text": [
      "0.09145700000000001\n"
     ]
    },
    {
     "data": {
      "text/plain": [
       "0.11515"
      ]
     },
     "execution_count": 102,
     "metadata": {},
     "output_type": "execute_result"
    },
    {
     "data": {
      "image/png": "[encoded data removed]",
      "text/plain": [
       "<Figure size 432x288 with 1 Axes>"
      ]
     },
     "metadata": {
      "needs_background": "light"
     },
     "output_type": "display_data"
    }
   ],
   "source": [
    "#visualization of sentiments using compound score\n",
    "df_aaj_final['compound'].hist()\n",
    "print(df_aaj_final['compound'].mean())\n",
    "df_aaj_final['compound'].median()"
   ]
  },
  {
   "cell_type": "code",
   "execution_count": 105,
   "metadata": {},
   "outputs": [
    {
     "data": {
      "text/plain": [
       "<matplotlib.axes._subplots.AxesSubplot at 0x1fb1e6e2188>"
      ]
     },
     "execution_count": 105,
     "metadata": {},
     "output_type": "execute_result"
    },
    {
     "data": {
      "image/png": "[encoded data removed]",
      "text/plain": [
       "<Figure size 432x288 with 1 Axes>"
      ]
     },
     "metadata": {
      "needs_background": "light"
     },
     "output_type": "display_data"
    }
   ],
   "source": [
    "sns.distplot(df_aaj_final['compound'], bins=15, hist = False, label = 'aaj tak', color ='blue',  kde_kws={'linestyle':'--'})"
   ]
  },
  {
   "cell_type": "markdown",
   "metadata": {},
   "source": [
    "# comparing these two leading channels by using tweets from twitter (via student registration in twitter api ) . we can visualize that the leading news channel try to go about same points for there reports , hence cannot see a significant variation between them . But individually if we have to say they both a signficant negative and positive sentiment across the twitter community and compound is positive for most part ."
   ]
  },
  {
   "cell_type": "code",
   "execution_count": null,
   "metadata": {},
   "outputs": [],
   "source": []
  }
 ],
 "metadata": {
  "kernelspec": {
   "display_name": "Python 3",
   "language": "python",
   "name": "python3"
  },
  "language_info": {
   "codemirror_mode": {
    "name": "ipython",
    "version": 3
   },
   "file_extension": ".py",
   "mimetype": "text/x-python",
   "name": "python",
   "nbconvert_exporter": "python",
   "pygments_lexer": "ipython3",
   "version": "3.7.6"
  }
 },
 "nbformat": 4,
 "nbformat_minor": 4
}
